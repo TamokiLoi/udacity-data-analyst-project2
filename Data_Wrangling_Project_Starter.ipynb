{
 "cells": [
  {
   "cell_type": "markdown",
   "metadata": {
    "id": "GNIwe5N7s0e_"
   },
   "source": [
    "# Project 2: Data Wrangling and Analysis"
   ]
  },
  {
   "cell_type": "markdown",
   "metadata": {},
   "source": [
    "## Table of Contents\n",
    "\n",
    "1. <strong>Introduction</strong>\n",
    "2. <strong>Gather Data</strong>\n",
    "3. <strong>Assess Data</strong>\n",
    "4. <strong>Clean Data</strong>\n",
    "5. <strong>Update Data Store</strong>\n",
    "6. <strong>Answer Research Questions</strong>"
   ]
  },
  {
   "cell_type": "markdown",
   "metadata": {},
   "source": [
    "## I. Introduction\n",
    "\n",
    "In this project, we will work with two datasets: `tmdb_5000_movies.csv` and `movies.csv`. The goal is to wrangle and analyze these datasets to answer some research questions related to movies.\n",
    "\n",
    "### Datasets Overview\n",
    "\n",
    "- **tmdb_5000_movies.csv**:\n",
    "  - Contains various attributes about movies such as budget, revenue, cast, crew, and ratings.\n",
    "  - Columns: `budget`, `genres`, `homepage`, `id`, `keywords`, `original_language`, `original_title`, `overview`, `popularity`, `production_companies`, `production_countries`, `release_date`, `revenue`, `runtime`, `spoken_languages`, `status`, `tagline`, `title`, `vote_average`, `vote_count`.\n",
    "\n",
    "- **movies.csv**:\n",
    "  - Contains information about movies and their genres.\n",
    "  - Columns: `movieId`, `title`, `genres`.\n",
    "\n",
    "### Summary of Steps\n",
    "1. Gather data from the provided CSV files.\n",
    "2. Assess the data for quality and tidiness issues.\n",
    "3. Clean the data to address the identified issues.\n",
    "4. Update the local data store with the cleaned data.\n",
    "5. Answer research questions based on the cleaned data."
   ]
  },
  {
   "cell_type": "markdown",
   "metadata": {},
   "source": [
    "## II. Gather Data\n",
    "\n",
    "### Problem Statement\n",
    "In this project, we aim to explore various aspects of movies such as budget, revenue, popularity, and genres. We will use two datasets: `tmdb_5000_movies.csv` and `movies.csv`.\n",
    "\n",
    "### Dataset 1: tmdb_5000_movies.csv\n",
    "- **Type**: CSV File\n",
    "- **Method**: Manually downloaded\n",
    "- **Variables**:\n",
    "  - `budget`: Budget for the movie production (in USD).\n",
    "  - `revenue`: Revenue of the movie (in USD).\n",
    "  - `popularity`: Popularity of the movie based on views and other interactions.\n",
    "  - `vote_average`: Average rating based on the votes.\n",
    "\n",
    "### Dataset 2: movies.csv\n",
    "- **Type**: CSV File\n",
    "- **Method**: Manually downloaded\n",
    "- **Variables**:\n",
    "  - `movieId`: Unique identifier for each movie.\n",
    "  - `title`: Title of the movie.\n",
    "  - `genres`: Genres of the movie."
   ]
  },
  {
   "cell_type": "code",
   "execution_count": 20,
   "metadata": {},
   "outputs": [
    {
     "data": {
      "text/plain": [
       "(      budget                                             genres  \\\n",
       " 0  237000000  [{\"id\": 28, \"name\": \"Action\"}, {\"id\": 12, \"nam...   \n",
       " 1  300000000  [{\"id\": 12, \"name\": \"Adventure\"}, {\"id\": 14, \"...   \n",
       " 2  245000000  [{\"id\": 28, \"name\": \"Action\"}, {\"id\": 12, \"nam...   \n",
       " 3  250000000  [{\"id\": 28, \"name\": \"Action\"}, {\"id\": 80, \"nam...   \n",
       " 4  260000000  [{\"id\": 28, \"name\": \"Action\"}, {\"id\": 12, \"nam...   \n",
       " \n",
       "                                        homepage      id  \\\n",
       " 0                   http://www.avatarmovie.com/   19995   \n",
       " 1  http://disney.go.com/disneypictures/pirates/     285   \n",
       " 2   http://www.sonypictures.com/movies/spectre/  206647   \n",
       " 3            http://www.thedarkknightrises.com/   49026   \n",
       " 4          http://movies.disney.com/john-carter   49529   \n",
       " \n",
       "                                             keywords original_language  \\\n",
       " 0  [{\"id\": 1463, \"name\": \"culture clash\"}, {\"id\":...                en   \n",
       " 1  [{\"id\": 270, \"name\": \"ocean\"}, {\"id\": 726, \"na...                en   \n",
       " 2  [{\"id\": 470, \"name\": \"spy\"}, {\"id\": 818, \"name...                en   \n",
       " 3  [{\"id\": 849, \"name\": \"dc comics\"}, {\"id\": 853,...                en   \n",
       " 4  [{\"id\": 818, \"name\": \"based on novel\"}, {\"id\":...                en   \n",
       " \n",
       "                              original_title  \\\n",
       " 0                                    Avatar   \n",
       " 1  Pirates of the Caribbean: At World's End   \n",
       " 2                                   Spectre   \n",
       " 3                     The Dark Knight Rises   \n",
       " 4                               John Carter   \n",
       " \n",
       "                                             overview  popularity  \\\n",
       " 0  In the 22nd century, a paraplegic Marine is di...  150.437577   \n",
       " 1  Captain Barbossa, long believed to be dead, ha...  139.082615   \n",
       " 2  A cryptic message from Bond’s past sends him o...  107.376788   \n",
       " 3  Following the death of District Attorney Harve...  112.312950   \n",
       " 4  John Carter is a war-weary, former military ca...   43.926995   \n",
       " \n",
       "                                 production_companies  \\\n",
       " 0  [{\"name\": \"Ingenious Film Partners\", \"id\": 289...   \n",
       " 1  [{\"name\": \"Walt Disney Pictures\", \"id\": 2}, {\"...   \n",
       " 2  [{\"name\": \"Columbia Pictures\", \"id\": 5}, {\"nam...   \n",
       " 3  [{\"name\": \"Legendary Pictures\", \"id\": 923}, {\"...   \n",
       " 4        [{\"name\": \"Walt Disney Pictures\", \"id\": 2}]   \n",
       " \n",
       "                                 production_countries release_date     revenue  \\\n",
       " 0  [{\"iso_3166_1\": \"US\", \"name\": \"United States o...   2009-12-10  2787965087   \n",
       " 1  [{\"iso_3166_1\": \"US\", \"name\": \"United States o...   2007-05-19   961000000   \n",
       " 2  [{\"iso_3166_1\": \"GB\", \"name\": \"United Kingdom\"...   2015-10-26   880674609   \n",
       " 3  [{\"iso_3166_1\": \"US\", \"name\": \"United States o...   2012-07-16  1084939099   \n",
       " 4  [{\"iso_3166_1\": \"US\", \"name\": \"United States o...   2012-03-07   284139100   \n",
       " \n",
       "    runtime                                   spoken_languages    status  \\\n",
       " 0    162.0  [{\"iso_639_1\": \"en\", \"name\": \"English\"}, {\"iso...  Released   \n",
       " 1    169.0           [{\"iso_639_1\": \"en\", \"name\": \"English\"}]  Released   \n",
       " 2    148.0  [{\"iso_639_1\": \"fr\", \"name\": \"Fran\\u00e7ais\"},...  Released   \n",
       " 3    165.0           [{\"iso_639_1\": \"en\", \"name\": \"English\"}]  Released   \n",
       " 4    132.0           [{\"iso_639_1\": \"en\", \"name\": \"English\"}]  Released   \n",
       " \n",
       "                                           tagline  \\\n",
       " 0                     Enter the World of Pandora.   \n",
       " 1  At the end of the world, the adventure begins.   \n",
       " 2                           A Plan No One Escapes   \n",
       " 3                                 The Legend Ends   \n",
       " 4            Lost in our world, found in another.   \n",
       " \n",
       "                                       title  vote_average  vote_count  \n",
       " 0                                    Avatar           7.2       11800  \n",
       " 1  Pirates of the Caribbean: At World's End           6.9        4500  \n",
       " 2                                   Spectre           6.3        4466  \n",
       " 3                     The Dark Knight Rises           7.6        9106  \n",
       " 4                               John Carter           6.1        2124  ,\n",
       "    movieId                               title  \\\n",
       " 0        1                    Toy Story (1995)   \n",
       " 1        2                      Jumanji (1995)   \n",
       " 2        3             Grumpier Old Men (1995)   \n",
       " 3        4            Waiting to Exhale (1995)   \n",
       " 4        5  Father of the Bride Part II (1995)   \n",
       " \n",
       "                                         genres  \n",
       " 0  Adventure|Animation|Children|Comedy|Fantasy  \n",
       " 1                   Adventure|Children|Fantasy  \n",
       " 2                               Comedy|Romance  \n",
       " 3                         Comedy|Drama|Romance  \n",
       " 4                                       Comedy  )"
      ]
     },
     "execution_count": 20,
     "metadata": {},
     "output_type": "execute_result"
    }
   ],
   "source": [
    "# Import necessary libraries\n",
    "import pandas as pd\n",
    "\n",
    "# Load datasets\n",
    "tmdb_movies = pd.read_csv('tmdb_5000_movies.csv')\n",
    "movies = pd.read_csv('movies.csv')\n",
    "\n",
    "# Display first few rows of the datasets\n",
    "tmdb_movies.head(), movies.head()"
   ]
  },
  {
   "cell_type": "markdown",
   "metadata": {},
   "source": [
    "## III. Assess Data\n",
    "\n",
    "### Quality and Tidiness Issues\n",
    "\n",
    "<strong>Quality Issue 1</strong>: Missing values in `tmdb_5000_movies.csv`"
   ]
  },
  {
   "cell_type": "code",
   "execution_count": 21,
   "metadata": {},
   "outputs": [
    {
     "name": "stdout",
     "output_type": "stream",
     "text": [
      "<class 'pandas.core.frame.DataFrame'>\n",
      "RangeIndex: 4803 entries, 0 to 4802\n",
      "Data columns (total 20 columns):\n",
      " #   Column                Non-Null Count  Dtype  \n",
      "---  ------                --------------  -----  \n",
      " 0   budget                4803 non-null   int64  \n",
      " 1   genres                4803 non-null   object \n",
      " 2   homepage              1712 non-null   object \n",
      " 3   id                    4803 non-null   int64  \n",
      " 4   keywords              4803 non-null   object \n",
      " 5   original_language     4803 non-null   object \n",
      " 6   original_title        4803 non-null   object \n",
      " 7   overview              4800 non-null   object \n",
      " 8   popularity            4803 non-null   float64\n",
      " 9   production_companies  4803 non-null   object \n",
      " 10  production_countries  4803 non-null   object \n",
      " 11  release_date          4802 non-null   object \n",
      " 12  revenue               4803 non-null   int64  \n",
      " 13  runtime               4801 non-null   float64\n",
      " 14  spoken_languages      4803 non-null   object \n",
      " 15  status                4803 non-null   object \n",
      " 16  tagline               3959 non-null   object \n",
      " 17  title                 4803 non-null   object \n",
      " 18  vote_average          4803 non-null   float64\n",
      " 19  vote_count            4803 non-null   int64  \n",
      "dtypes: float64(3), int64(4), object(13)\n",
      "memory usage: 750.6+ KB\n"
     ]
    },
    {
     "data": {
      "text/plain": [
       "budget                     0\n",
       "genres                     0\n",
       "homepage                3091\n",
       "id                         0\n",
       "keywords                   0\n",
       "original_language          0\n",
       "original_title             0\n",
       "overview                   3\n",
       "popularity                 0\n",
       "production_companies       0\n",
       "production_countries       0\n",
       "release_date               1\n",
       "revenue                    0\n",
       "runtime                    2\n",
       "spoken_languages           0\n",
       "status                     0\n",
       "tagline                  844\n",
       "title                      0\n",
       "vote_average               0\n",
       "vote_count                 0\n",
       "dtype: int64"
      ]
     },
     "execution_count": 21,
     "metadata": {},
     "output_type": "execute_result"
    }
   ],
   "source": [
    "# Inspecting the dataframe visually\n",
    "tmdb_movies.info()\n",
    "\n",
    "# Inspecting the dataframe programmatically\n",
    "tmdb_movies.isnull().sum()"
   ]
  },
  {
   "cell_type": "markdown",
   "metadata": {},
   "source": [
    "<strong>Issue and justification</strong>: There are missing values in columns like `homepage` and `tagline`.\n",
    "\n",
    "<strong>Quality Issue 2</strong>: Inconsistent data types in `tmdb_5000_movies.csv`"
   ]
  },
  {
   "cell_type": "code",
   "execution_count": 22,
   "metadata": {},
   "outputs": [
    {
     "data": {
      "text/html": [
       "<div>\n",
       "<style scoped>\n",
       "    .dataframe tbody tr th:only-of-type {\n",
       "        vertical-align: middle;\n",
       "    }\n",
       "\n",
       "    .dataframe tbody tr th {\n",
       "        vertical-align: top;\n",
       "    }\n",
       "\n",
       "    .dataframe thead th {\n",
       "        text-align: right;\n",
       "    }\n",
       "</style>\n",
       "<table border=\"1\" class=\"dataframe\">\n",
       "  <thead>\n",
       "    <tr style=\"text-align: right;\">\n",
       "      <th></th>\n",
       "      <th>budget</th>\n",
       "      <th>genres</th>\n",
       "      <th>homepage</th>\n",
       "      <th>id</th>\n",
       "      <th>keywords</th>\n",
       "      <th>original_language</th>\n",
       "      <th>original_title</th>\n",
       "      <th>overview</th>\n",
       "      <th>popularity</th>\n",
       "      <th>production_companies</th>\n",
       "      <th>production_countries</th>\n",
       "      <th>release_date</th>\n",
       "      <th>revenue</th>\n",
       "      <th>runtime</th>\n",
       "      <th>spoken_languages</th>\n",
       "      <th>status</th>\n",
       "      <th>tagline</th>\n",
       "      <th>title</th>\n",
       "      <th>vote_average</th>\n",
       "      <th>vote_count</th>\n",
       "    </tr>\n",
       "  </thead>\n",
       "  <tbody>\n",
       "    <tr>\n",
       "      <th>count</th>\n",
       "      <td>4.803000e+03</td>\n",
       "      <td>4803</td>\n",
       "      <td>1712</td>\n",
       "      <td>4803.000000</td>\n",
       "      <td>4803</td>\n",
       "      <td>4803</td>\n",
       "      <td>4803</td>\n",
       "      <td>4800</td>\n",
       "      <td>4803.000000</td>\n",
       "      <td>4803</td>\n",
       "      <td>4803</td>\n",
       "      <td>4802</td>\n",
       "      <td>4.803000e+03</td>\n",
       "      <td>4801.000000</td>\n",
       "      <td>4803</td>\n",
       "      <td>4803</td>\n",
       "      <td>3959</td>\n",
       "      <td>4803</td>\n",
       "      <td>4803.000000</td>\n",
       "      <td>4803.000000</td>\n",
       "    </tr>\n",
       "    <tr>\n",
       "      <th>unique</th>\n",
       "      <td>NaN</td>\n",
       "      <td>1175</td>\n",
       "      <td>1691</td>\n",
       "      <td>NaN</td>\n",
       "      <td>4222</td>\n",
       "      <td>37</td>\n",
       "      <td>4801</td>\n",
       "      <td>4800</td>\n",
       "      <td>NaN</td>\n",
       "      <td>3697</td>\n",
       "      <td>469</td>\n",
       "      <td>3280</td>\n",
       "      <td>NaN</td>\n",
       "      <td>NaN</td>\n",
       "      <td>544</td>\n",
       "      <td>3</td>\n",
       "      <td>3944</td>\n",
       "      <td>4800</td>\n",
       "      <td>NaN</td>\n",
       "      <td>NaN</td>\n",
       "    </tr>\n",
       "    <tr>\n",
       "      <th>top</th>\n",
       "      <td>NaN</td>\n",
       "      <td>[{\"id\": 18, \"name\": \"Drama\"}]</td>\n",
       "      <td>http://www.missionimpossible.com/</td>\n",
       "      <td>NaN</td>\n",
       "      <td>[]</td>\n",
       "      <td>en</td>\n",
       "      <td>Out of the Blue</td>\n",
       "      <td>In the 22nd century, a paraplegic Marine is di...</td>\n",
       "      <td>NaN</td>\n",
       "      <td>[]</td>\n",
       "      <td>[{\"iso_3166_1\": \"US\", \"name\": \"United States o...</td>\n",
       "      <td>2006-01-01</td>\n",
       "      <td>NaN</td>\n",
       "      <td>NaN</td>\n",
       "      <td>[{\"iso_639_1\": \"en\", \"name\": \"English\"}]</td>\n",
       "      <td>Released</td>\n",
       "      <td>Based on a true story.</td>\n",
       "      <td>The Host</td>\n",
       "      <td>NaN</td>\n",
       "      <td>NaN</td>\n",
       "    </tr>\n",
       "    <tr>\n",
       "      <th>freq</th>\n",
       "      <td>NaN</td>\n",
       "      <td>370</td>\n",
       "      <td>4</td>\n",
       "      <td>NaN</td>\n",
       "      <td>412</td>\n",
       "      <td>4505</td>\n",
       "      <td>2</td>\n",
       "      <td>1</td>\n",
       "      <td>NaN</td>\n",
       "      <td>351</td>\n",
       "      <td>2977</td>\n",
       "      <td>10</td>\n",
       "      <td>NaN</td>\n",
       "      <td>NaN</td>\n",
       "      <td>3171</td>\n",
       "      <td>4795</td>\n",
       "      <td>3</td>\n",
       "      <td>2</td>\n",
       "      <td>NaN</td>\n",
       "      <td>NaN</td>\n",
       "    </tr>\n",
       "    <tr>\n",
       "      <th>mean</th>\n",
       "      <td>2.904504e+07</td>\n",
       "      <td>NaN</td>\n",
       "      <td>NaN</td>\n",
       "      <td>57165.484281</td>\n",
       "      <td>NaN</td>\n",
       "      <td>NaN</td>\n",
       "      <td>NaN</td>\n",
       "      <td>NaN</td>\n",
       "      <td>21.492301</td>\n",
       "      <td>NaN</td>\n",
       "      <td>NaN</td>\n",
       "      <td>NaN</td>\n",
       "      <td>8.226064e+07</td>\n",
       "      <td>106.875859</td>\n",
       "      <td>NaN</td>\n",
       "      <td>NaN</td>\n",
       "      <td>NaN</td>\n",
       "      <td>NaN</td>\n",
       "      <td>6.092172</td>\n",
       "      <td>690.217989</td>\n",
       "    </tr>\n",
       "    <tr>\n",
       "      <th>std</th>\n",
       "      <td>4.072239e+07</td>\n",
       "      <td>NaN</td>\n",
       "      <td>NaN</td>\n",
       "      <td>88694.614033</td>\n",
       "      <td>NaN</td>\n",
       "      <td>NaN</td>\n",
       "      <td>NaN</td>\n",
       "      <td>NaN</td>\n",
       "      <td>31.816650</td>\n",
       "      <td>NaN</td>\n",
       "      <td>NaN</td>\n",
       "      <td>NaN</td>\n",
       "      <td>1.628571e+08</td>\n",
       "      <td>22.611935</td>\n",
       "      <td>NaN</td>\n",
       "      <td>NaN</td>\n",
       "      <td>NaN</td>\n",
       "      <td>NaN</td>\n",
       "      <td>1.194612</td>\n",
       "      <td>1234.585891</td>\n",
       "    </tr>\n",
       "    <tr>\n",
       "      <th>min</th>\n",
       "      <td>0.000000e+00</td>\n",
       "      <td>NaN</td>\n",
       "      <td>NaN</td>\n",
       "      <td>5.000000</td>\n",
       "      <td>NaN</td>\n",
       "      <td>NaN</td>\n",
       "      <td>NaN</td>\n",
       "      <td>NaN</td>\n",
       "      <td>0.000000</td>\n",
       "      <td>NaN</td>\n",
       "      <td>NaN</td>\n",
       "      <td>NaN</td>\n",
       "      <td>0.000000e+00</td>\n",
       "      <td>0.000000</td>\n",
       "      <td>NaN</td>\n",
       "      <td>NaN</td>\n",
       "      <td>NaN</td>\n",
       "      <td>NaN</td>\n",
       "      <td>0.000000</td>\n",
       "      <td>0.000000</td>\n",
       "    </tr>\n",
       "    <tr>\n",
       "      <th>25%</th>\n",
       "      <td>7.900000e+05</td>\n",
       "      <td>NaN</td>\n",
       "      <td>NaN</td>\n",
       "      <td>9014.500000</td>\n",
       "      <td>NaN</td>\n",
       "      <td>NaN</td>\n",
       "      <td>NaN</td>\n",
       "      <td>NaN</td>\n",
       "      <td>4.668070</td>\n",
       "      <td>NaN</td>\n",
       "      <td>NaN</td>\n",
       "      <td>NaN</td>\n",
       "      <td>0.000000e+00</td>\n",
       "      <td>94.000000</td>\n",
       "      <td>NaN</td>\n",
       "      <td>NaN</td>\n",
       "      <td>NaN</td>\n",
       "      <td>NaN</td>\n",
       "      <td>5.600000</td>\n",
       "      <td>54.000000</td>\n",
       "    </tr>\n",
       "    <tr>\n",
       "      <th>50%</th>\n",
       "      <td>1.500000e+07</td>\n",
       "      <td>NaN</td>\n",
       "      <td>NaN</td>\n",
       "      <td>14629.000000</td>\n",
       "      <td>NaN</td>\n",
       "      <td>NaN</td>\n",
       "      <td>NaN</td>\n",
       "      <td>NaN</td>\n",
       "      <td>12.921594</td>\n",
       "      <td>NaN</td>\n",
       "      <td>NaN</td>\n",
       "      <td>NaN</td>\n",
       "      <td>1.917000e+07</td>\n",
       "      <td>103.000000</td>\n",
       "      <td>NaN</td>\n",
       "      <td>NaN</td>\n",
       "      <td>NaN</td>\n",
       "      <td>NaN</td>\n",
       "      <td>6.200000</td>\n",
       "      <td>235.000000</td>\n",
       "    </tr>\n",
       "    <tr>\n",
       "      <th>75%</th>\n",
       "      <td>4.000000e+07</td>\n",
       "      <td>NaN</td>\n",
       "      <td>NaN</td>\n",
       "      <td>58610.500000</td>\n",
       "      <td>NaN</td>\n",
       "      <td>NaN</td>\n",
       "      <td>NaN</td>\n",
       "      <td>NaN</td>\n",
       "      <td>28.313505</td>\n",
       "      <td>NaN</td>\n",
       "      <td>NaN</td>\n",
       "      <td>NaN</td>\n",
       "      <td>9.291719e+07</td>\n",
       "      <td>118.000000</td>\n",
       "      <td>NaN</td>\n",
       "      <td>NaN</td>\n",
       "      <td>NaN</td>\n",
       "      <td>NaN</td>\n",
       "      <td>6.800000</td>\n",
       "      <td>737.000000</td>\n",
       "    </tr>\n",
       "    <tr>\n",
       "      <th>max</th>\n",
       "      <td>3.800000e+08</td>\n",
       "      <td>NaN</td>\n",
       "      <td>NaN</td>\n",
       "      <td>459488.000000</td>\n",
       "      <td>NaN</td>\n",
       "      <td>NaN</td>\n",
       "      <td>NaN</td>\n",
       "      <td>NaN</td>\n",
       "      <td>875.581305</td>\n",
       "      <td>NaN</td>\n",
       "      <td>NaN</td>\n",
       "      <td>NaN</td>\n",
       "      <td>2.787965e+09</td>\n",
       "      <td>338.000000</td>\n",
       "      <td>NaN</td>\n",
       "      <td>NaN</td>\n",
       "      <td>NaN</td>\n",
       "      <td>NaN</td>\n",
       "      <td>10.000000</td>\n",
       "      <td>13752.000000</td>\n",
       "    </tr>\n",
       "  </tbody>\n",
       "</table>\n",
       "</div>"
      ],
      "text/plain": [
       "              budget                         genres  \\\n",
       "count   4.803000e+03                           4803   \n",
       "unique           NaN                           1175   \n",
       "top              NaN  [{\"id\": 18, \"name\": \"Drama\"}]   \n",
       "freq             NaN                            370   \n",
       "mean    2.904504e+07                            NaN   \n",
       "std     4.072239e+07                            NaN   \n",
       "min     0.000000e+00                            NaN   \n",
       "25%     7.900000e+05                            NaN   \n",
       "50%     1.500000e+07                            NaN   \n",
       "75%     4.000000e+07                            NaN   \n",
       "max     3.800000e+08                            NaN   \n",
       "\n",
       "                                 homepage             id keywords  \\\n",
       "count                                1712    4803.000000     4803   \n",
       "unique                               1691            NaN     4222   \n",
       "top     http://www.missionimpossible.com/            NaN       []   \n",
       "freq                                    4            NaN      412   \n",
       "mean                                  NaN   57165.484281      NaN   \n",
       "std                                   NaN   88694.614033      NaN   \n",
       "min                                   NaN       5.000000      NaN   \n",
       "25%                                   NaN    9014.500000      NaN   \n",
       "50%                                   NaN   14629.000000      NaN   \n",
       "75%                                   NaN   58610.500000      NaN   \n",
       "max                                   NaN  459488.000000      NaN   \n",
       "\n",
       "       original_language   original_title  \\\n",
       "count               4803             4803   \n",
       "unique                37             4801   \n",
       "top                   en  Out of the Blue   \n",
       "freq                4505                2   \n",
       "mean                 NaN              NaN   \n",
       "std                  NaN              NaN   \n",
       "min                  NaN              NaN   \n",
       "25%                  NaN              NaN   \n",
       "50%                  NaN              NaN   \n",
       "75%                  NaN              NaN   \n",
       "max                  NaN              NaN   \n",
       "\n",
       "                                                 overview   popularity  \\\n",
       "count                                                4800  4803.000000   \n",
       "unique                                               4800          NaN   \n",
       "top     In the 22nd century, a paraplegic Marine is di...          NaN   \n",
       "freq                                                    1          NaN   \n",
       "mean                                                  NaN    21.492301   \n",
       "std                                                   NaN    31.816650   \n",
       "min                                                   NaN     0.000000   \n",
       "25%                                                   NaN     4.668070   \n",
       "50%                                                   NaN    12.921594   \n",
       "75%                                                   NaN    28.313505   \n",
       "max                                                   NaN   875.581305   \n",
       "\n",
       "       production_companies  \\\n",
       "count                  4803   \n",
       "unique                 3697   \n",
       "top                      []   \n",
       "freq                    351   \n",
       "mean                    NaN   \n",
       "std                     NaN   \n",
       "min                     NaN   \n",
       "25%                     NaN   \n",
       "50%                     NaN   \n",
       "75%                     NaN   \n",
       "max                     NaN   \n",
       "\n",
       "                                     production_countries release_date  \\\n",
       "count                                                4803         4802   \n",
       "unique                                                469         3280   \n",
       "top     [{\"iso_3166_1\": \"US\", \"name\": \"United States o...   2006-01-01   \n",
       "freq                                                 2977           10   \n",
       "mean                                                  NaN          NaN   \n",
       "std                                                   NaN          NaN   \n",
       "min                                                   NaN          NaN   \n",
       "25%                                                   NaN          NaN   \n",
       "50%                                                   NaN          NaN   \n",
       "75%                                                   NaN          NaN   \n",
       "max                                                   NaN          NaN   \n",
       "\n",
       "             revenue      runtime                          spoken_languages  \\\n",
       "count   4.803000e+03  4801.000000                                      4803   \n",
       "unique           NaN          NaN                                       544   \n",
       "top              NaN          NaN  [{\"iso_639_1\": \"en\", \"name\": \"English\"}]   \n",
       "freq             NaN          NaN                                      3171   \n",
       "mean    8.226064e+07   106.875859                                       NaN   \n",
       "std     1.628571e+08    22.611935                                       NaN   \n",
       "min     0.000000e+00     0.000000                                       NaN   \n",
       "25%     0.000000e+00    94.000000                                       NaN   \n",
       "50%     1.917000e+07   103.000000                                       NaN   \n",
       "75%     9.291719e+07   118.000000                                       NaN   \n",
       "max     2.787965e+09   338.000000                                       NaN   \n",
       "\n",
       "          status                 tagline     title  vote_average    vote_count  \n",
       "count       4803                    3959      4803   4803.000000   4803.000000  \n",
       "unique         3                    3944      4800           NaN           NaN  \n",
       "top     Released  Based on a true story.  The Host           NaN           NaN  \n",
       "freq        4795                       3         2           NaN           NaN  \n",
       "mean         NaN                     NaN       NaN      6.092172    690.217989  \n",
       "std          NaN                     NaN       NaN      1.194612   1234.585891  \n",
       "min          NaN                     NaN       NaN      0.000000      0.000000  \n",
       "25%          NaN                     NaN       NaN      5.600000     54.000000  \n",
       "50%          NaN                     NaN       NaN      6.200000    235.000000  \n",
       "75%          NaN                     NaN       NaN      6.800000    737.000000  \n",
       "max          NaN                     NaN       NaN     10.000000  13752.000000  "
      ]
     },
     "execution_count": 22,
     "metadata": {},
     "output_type": "execute_result"
    }
   ],
   "source": [
    "# Inspecting the dataframe visually\n",
    "tmdb_movies.dtypes\n",
    "\n",
    "# Inspecting the dataframe programmatically\n",
    "tmdb_movies.describe(include='all')"
   ]
  },
  {
   "cell_type": "markdown",
   "metadata": {},
   "source": [
    "<strong>Issue and justification</strong>: Some columns have inconsistent data types that need to be corrected.\n",
    "\n",
    "<strong>Tidiness Issue 1</strong>: `genres` column in `tmdb_5000_movies.csv` contains nested JSON-like data"
   ]
  },
  {
   "cell_type": "code",
   "execution_count": 23,
   "metadata": {},
   "outputs": [
    {
     "data": {
      "text/plain": [
       "genres\n",
       "<class 'str'>    4803\n",
       "Name: count, dtype: int64"
      ]
     },
     "execution_count": 23,
     "metadata": {},
     "output_type": "execute_result"
    }
   ],
   "source": [
    "# Inspecting the dataframe visually\n",
    "tmdb_movies['genres'].head()\n",
    "\n",
    "# Inspecting the dataframe programmatically\n",
    "tmdb_movies['genres'].apply(type).value_counts()"
   ]
  },
  {
   "cell_type": "markdown",
   "metadata": {},
   "source": [
    "<strong>Issue and justification</strong>: The genres column should be cleaned to extract meaningful information.\n",
    "\n",
    "<strong>Tidiness Issue 2</strong>: Duplicated data in `movies.csv`"
   ]
  },
  {
   "cell_type": "code",
   "execution_count": 24,
   "metadata": {},
   "outputs": [
    {
     "data": {
      "text/html": [
       "<div>\n",
       "<style scoped>\n",
       "    .dataframe tbody tr th:only-of-type {\n",
       "        vertical-align: middle;\n",
       "    }\n",
       "\n",
       "    .dataframe tbody tr th {\n",
       "        vertical-align: top;\n",
       "    }\n",
       "\n",
       "    .dataframe thead th {\n",
       "        text-align: right;\n",
       "    }\n",
       "</style>\n",
       "<table border=\"1\" class=\"dataframe\">\n",
       "  <thead>\n",
       "    <tr style=\"text-align: right;\">\n",
       "      <th></th>\n",
       "      <th>movieId</th>\n",
       "      <th>title</th>\n",
       "      <th>genres</th>\n",
       "    </tr>\n",
       "  </thead>\n",
       "  <tbody>\n",
       "  </tbody>\n",
       "</table>\n",
       "</div>"
      ],
      "text/plain": [
       "Empty DataFrame\n",
       "Columns: [movieId, title, genres]\n",
       "Index: []"
      ]
     },
     "execution_count": 24,
     "metadata": {},
     "output_type": "execute_result"
    }
   ],
   "source": [
    "# Inspecting the dataframe visually\n",
    "movies.duplicated().sum()\n",
    "\n",
    "# Inspecting the dataframe programmatically\n",
    "movies[movies.duplicated()]"
   ]
  },
  {
   "cell_type": "markdown",
   "metadata": {},
   "source": [
    "<strong>Issue and justification</strong>: The dataset contains duplicated rows that need to be removed."
   ]
  },
  {
   "cell_type": "markdown",
   "metadata": {},
   "source": [
    "## IV. Clean Data\n",
    "\n",
    "### Quality Issue 1: Missing values"
   ]
  },
  {
   "cell_type": "code",
   "execution_count": 25,
   "metadata": {},
   "outputs": [
    {
     "data": {
      "text/plain": [
       "budget                  0\n",
       "genres                  0\n",
       "homepage                0\n",
       "id                      0\n",
       "keywords                0\n",
       "original_language       0\n",
       "original_title          0\n",
       "overview                3\n",
       "popularity              0\n",
       "production_companies    0\n",
       "production_countries    0\n",
       "release_date            1\n",
       "revenue                 0\n",
       "runtime                 2\n",
       "spoken_languages        0\n",
       "status                  0\n",
       "tagline                 0\n",
       "title                   0\n",
       "vote_average            0\n",
       "vote_count              0\n",
       "dtype: int64"
      ]
     },
     "execution_count": 25,
     "metadata": {},
     "output_type": "execute_result"
    }
   ],
   "source": [
    "# Make a copy of the dataset\n",
    "tmdb_movies_clean = tmdb_movies.copy()\n",
    "\n",
    "# Fill or drop missing values\n",
    "tmdb_movies_clean['homepage'].fillna('No homepage', inplace=True)\n",
    "tmdb_movies_clean['tagline'].fillna('No tagline', inplace=True)\n",
    "\n",
    "# Validate cleaning\n",
    "tmdb_movies_clean.isnull().sum()"
   ]
  },
  {
   "cell_type": "markdown",
   "metadata": {},
   "source": [
    "<strong>Justification</strong>: Filling missing values with appropriate placeholders.\n",
    "\n",
    "### Quality Issue 2: Inconsistent data types"
   ]
  },
  {
   "cell_type": "code",
   "execution_count": 26,
   "metadata": {},
   "outputs": [
    {
     "data": {
      "text/plain": [
       "budget                  float64\n",
       "genres                   object\n",
       "homepage                 object\n",
       "id                        int64\n",
       "keywords                 object\n",
       "original_language        object\n",
       "original_title           object\n",
       "overview                 object\n",
       "popularity              float64\n",
       "production_companies     object\n",
       "production_countries     object\n",
       "release_date             object\n",
       "revenue                 float64\n",
       "runtime                 float64\n",
       "spoken_languages         object\n",
       "status                   object\n",
       "tagline                  object\n",
       "title                    object\n",
       "vote_average            float64\n",
       "vote_count                int64\n",
       "dtype: object"
      ]
     },
     "execution_count": 26,
     "metadata": {},
     "output_type": "execute_result"
    }
   ],
   "source": [
    "# Convert data types\n",
    "tmdb_movies_clean['budget'] = tmdb_movies_clean['budget'].astype(float)\n",
    "tmdb_movies_clean['revenue'] = tmdb_movies_clean['revenue'].astype(float)\n",
    "\n",
    "# Validate cleaning\n",
    "tmdb_movies_clean.dtypes"
   ]
  },
  {
   "cell_type": "markdown",
   "metadata": {},
   "source": [
    "<strong>Justification</strong>: Ensure consistency in data types for numerical analysis.\n",
    "\n",
    "### Tidiness Issue 1: Cleaning genres column"
   ]
  },
  {
   "cell_type": "code",
   "execution_count": 27,
   "metadata": {},
   "outputs": [
    {
     "data": {
      "text/plain": [
       "0    [Action, Adventure, Fantasy, Science Fiction]\n",
       "1                     [Adventure, Fantasy, Action]\n",
       "2                       [Action, Adventure, Crime]\n",
       "3                 [Action, Crime, Drama, Thriller]\n",
       "4             [Action, Adventure, Science Fiction]\n",
       "Name: genres, dtype: object"
      ]
     },
     "execution_count": 27,
     "metadata": {},
     "output_type": "execute_result"
    }
   ],
   "source": [
    "import ast\n",
    "\n",
    "# Extract genres\n",
    "def extract_genres(genres_str):\n",
    "    genres_list = ast.literal_eval(genres_str)\n",
    "    return [genre['name'] for genre in genres_list]\n",
    "\n",
    "tmdb_movies_clean['genres'] = tmdb_movies_clean['genres'].apply(extract_genres)\n",
    "\n",
    "# Validate cleaning\n",
    "tmdb_movies_clean['genres'].head()"
   ]
  },
  {
   "cell_type": "markdown",
   "metadata": {},
   "source": [
    "<strong>Justification</strong>: Extracting meaningful information from nested data.\n",
    "\n",
    "### Tidiness Issue 2: Removing duplicated data"
   ]
  },
  {
   "cell_type": "code",
   "execution_count": 28,
   "metadata": {},
   "outputs": [
    {
     "data": {
      "text/plain": [
       "0"
      ]
     },
     "execution_count": 28,
     "metadata": {},
     "output_type": "execute_result"
    }
   ],
   "source": [
    "# Remove duplicates\n",
    "movies_clean = movies.drop_duplicates()\n",
    "\n",
    "# Validate cleaning\n",
    "movies_clean.duplicated().sum()"
   ]
  },
  {
   "cell_type": "markdown",
   "metadata": {},
   "source": [
    "<strong>Justification</strong>: Ensure no duplicated rows remain in the dataset.\n",
    "\n",
    "### Remove unnecessary variables and combine datasets"
   ]
  },
  {
   "cell_type": "code",
   "execution_count": 29,
   "metadata": {},
   "outputs": [
    {
     "data": {
      "text/html": [
       "<div>\n",
       "<style scoped>\n",
       "    .dataframe tbody tr th:only-of-type {\n",
       "        vertical-align: middle;\n",
       "    }\n",
       "\n",
       "    .dataframe tbody tr th {\n",
       "        vertical-align: top;\n",
       "    }\n",
       "\n",
       "    .dataframe thead th {\n",
       "        text-align: right;\n",
       "    }\n",
       "</style>\n",
       "<table border=\"1\" class=\"dataframe\">\n",
       "  <thead>\n",
       "    <tr style=\"text-align: right;\">\n",
       "      <th></th>\n",
       "      <th>id</th>\n",
       "      <th>title</th>\n",
       "      <th>budget</th>\n",
       "      <th>revenue</th>\n",
       "      <th>popularity</th>\n",
       "      <th>vote_average</th>\n",
       "      <th>genres_x</th>\n",
       "      <th>movieId</th>\n",
       "      <th>genres_y</th>\n",
       "    </tr>\n",
       "  </thead>\n",
       "  <tbody>\n",
       "  </tbody>\n",
       "</table>\n",
       "</div>"
      ],
      "text/plain": [
       "Empty DataFrame\n",
       "Columns: [id, title, budget, revenue, popularity, vote_average, genres_x, movieId, genres_y]\n",
       "Index: []"
      ]
     },
     "execution_count": 29,
     "metadata": {},
     "output_type": "execute_result"
    }
   ],
   "source": [
    "# Select necessary columns\n",
    "tmdb_movies_reduced = tmdb_movies_clean[['id', 'title', 'budget', 'revenue', 'popularity', 'vote_average', 'genres']]\n",
    "movies_reduced = movies_clean[['movieId', 'title', 'genres']]\n",
    "\n",
    "# Merge datasets\n",
    "combined_data = pd.merge(tmdb_movies_reduced, movies_reduced, left_on='title', right_on='title', how='inner')\n",
    "\n",
    "# Validate combination\n",
    "combined_data.head()"
   ]
  },
  {
   "cell_type": "markdown",
   "metadata": {},
   "source": [
    "## V. Update Data Store"
   ]
  },
  {
   "cell_type": "code",
   "execution_count": 30,
   "metadata": {},
   "outputs": [],
   "source": [
    "# Save cleaned data\n",
    "tmdb_movies_clean.to_csv('tmdb_5000_movies_clean.csv', index=False)\n",
    "movies_clean.to_csv('movies_clean.csv', index=False)\n",
    "combined_data.to_csv('combined_data.csv', index=False)"
   ]
  },
  {
   "cell_type": "markdown",
   "metadata": {},
   "source": [
    "## VI. Answer Research Questions"
   ]
  },
  {
   "cell_type": "markdown",
   "metadata": {},
   "source": [
    "### Research Question 1: What genres are most common in movies?\n",
    "\n",
    "We can analyze the frequency of different genres in the `tmdb_5000_movies.csv` dataset to determine which genres are most common."
   ]
  },
  {
   "cell_type": "code",
   "execution_count": 36,
   "metadata": {},
   "outputs": [
    {
     "data": {
      "image/png": "[encoded data removed]",
      "text/plain": [
       "<Figure size 1200x800 with 1 Axes>"
      ]
     },
     "metadata": {},
     "output_type": "display_data"
    }
   ],
   "source": [
    "import matplotlib.pyplot as plt\n",
    "from collections import Counter\n",
    "import ast\n",
    "\n",
    "# Load the data\n",
    "tmdb_movies = pd.read_csv('tmdb_5000_movies.csv')\n",
    "\n",
    "# Extract genres from the dataset\n",
    "all_genres = []\n",
    "for genres_str in tmdb_movies['genres']:\n",
    "    genres = ast.literal_eval(genres_str)\n",
    "    for genre in genres:\n",
    "        all_genres.append(genre['name'])\n",
    "\n",
    "# Count the frequency of each genre\n",
    "genre_counts = Counter(all_genres)\n",
    "\n",
    "# Convert to a DataFrame for plotting\n",
    "genres_df = pd.DataFrame.from_dict(genre_counts, orient='index', columns=['count']).reset_index()\n",
    "genres_df = genres_df.rename(columns={'index': 'genre'}).sort_values(by='count', ascending=False)\n",
    "\n",
    "# Plot the most common genres\n",
    "plt.figure(figsize=(12, 8))\n",
    "sns.barplot(data=genres_df, x='count', y='genre', palette='viridis')\n",
    "plt.title('Most Common Movie Genres')\n",
    "plt.xlabel('Number of Movies')\n",
    "plt.ylabel('Genre')\n",
    "plt.show()"
   ]
  },
  {
   "cell_type": "markdown",
   "metadata": {},
   "source": [
    "### Research Question 2: What is the distribution of movie popularity?\n",
    "\n",
    "We can analyze the distribution of the popularity field in the `tmdb_5000_movies.csv` dataset to understand how movie popularity is distributed."
   ]
  },
  {
   "cell_type": "code",
   "execution_count": 37,
   "metadata": {},
   "outputs": [
    {
     "data": {
      "image/png": "[encoded data removed]",
      "text/plain": [
       "<Figure size 1200x800 with 1 Axes>"
      ]
     },
     "metadata": {},
     "output_type": "display_data"
    }
   ],
   "source": [
    "# Plot the distribution of movie popularity\n",
    "plt.figure(figsize=(12, 8))\n",
    "sns.histplot(tmdb_movies['popularity'], bins=30, kde=True)\n",
    "plt.title('Distribution of Movie Popularity')\n",
    "plt.xlabel('Popularity')\n",
    "plt.ylabel('Number of Movies')\n",
    "plt.show()"
   ]
  },
  {
   "cell_type": "markdown",
   "metadata": {},
   "source": [
    "### Research Question 3: What is the relationship between budget and revenue?\n",
    "\n",
    "We can analyze the relationship between the `budget` and `revenue` fields in the `tmdb_5000_movies.csv` dataset to understand how budget affects revenue."
   ]
  },
  {
   "cell_type": "code",
   "execution_count": 38,
   "metadata": {},
   "outputs": [
    {
     "name": "stdout",
     "output_type": "stream",
     "text": [
      "Number of valid data points: 3229\n"
     ]
    },
    {
     "data": {
      "image/png": "[encoded data removed]",
      "text/plain": [
       "<Figure size 1000x600 with 1 Axes>"
      ]
     },
     "metadata": {},
     "output_type": "display_data"
    },
    {
     "name": "stdout",
     "output_type": "stream",
     "text": [
      "Correlation coefficient between budget and revenue: 0.71\n"
     ]
    }
   ],
   "source": [
    "# Filter out movies with budget or revenue equal to zero\n",
    "valid_budget_revenue = tmdb_movies[(tmdb_movies['budget'] > 0) & (tmdb_movies['revenue'] > 0)]\n",
    "\n",
    "# Check the number of valid data points\n",
    "num_valid_points = len(valid_budget_revenue)\n",
    "print(f\"Number of valid data points: {num_valid_points}\")\n",
    "\n",
    "# Ensure there are enough data points to plot\n",
    "if num_valid_points < 2:\n",
    "    print(\"Not enough data points to plot. Please check the dataset for missing or zero values in 'budget' and 'revenue'.\")\n",
    "else:\n",
    "    # Visual: Budget vs Revenue with Regression Line\n",
    "    plt.figure(figsize=(10, 6))\n",
    "    sns.regplot(data=valid_budget_revenue, x='budget', y='revenue', scatter_kws={'alpha': 0.5})\n",
    "    plt.title('Budget vs Revenue')\n",
    "    plt.xlabel('Budget (in USD)')\n",
    "    plt.ylabel('Revenue (in USD)')\n",
    "    plt.show()\n",
    "\n",
    "    # Compute correlation coefficient\n",
    "    correlation, _ = pearsonr(valid_budget_revenue['budget'], valid_budget_revenue['revenue'])\n",
    "    print(f'Correlation coefficient between budget and revenue: {correlation:.2f}')"
   ]
  },
  {
   "cell_type": "markdown",
   "metadata": {},
   "source": [
    "## Reflection\n",
    "\n",
    "If I had more time to complete the project, I would focus on:\n",
    "\n",
    "- Further cleaning the `genres` column to ensure each movie has distinct genre tags.\n",
    "\n",
    "- Investigating additional variables such as director and cast to see their influence on movie success.\n",
    "\n",
    "- Exploring other datasets to enrich the analysis and provide more insights into the factors contributing to movie revenue."
   ]
  }
 ],
 "metadata": {
  "colab": {
   "provenance": []
  },
  "kernelspec": {
   "display_name": "Python 3 (ipykernel)",
   "language": "python",
   "name": "python3"
  },
  "language_info": {
   "codemirror_mode": {
    "name": "ipython",
    "version": 3
   },
   "file_extension": ".py",
   "mimetype": "text/x-python",
   "name": "python",
   "nbconvert_exporter": "python",
   "pygments_lexer": "ipython3",
   "version": "3.10.11"
  }
 },
 "nbformat": 4,
 "nbformat_minor": 1
}
